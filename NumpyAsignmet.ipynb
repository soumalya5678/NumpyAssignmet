{
 "cells": [
  {
   "cell_type": "code",
   "execution_count": 1,
   "id": "23082e32-bbbd-49b1-b312-41129ef36697",
   "metadata": {},
   "outputs": [],
   "source": [
    "\n",
    "# A Python library is a collection of\n",
    "# functions and methods that allows you \n",
    "# to perform many actions without writing your own code. \n",
    "# We use Python libraries to save time and effort by reusing \n",
    "# code that others have already written, making it easier to perform \n",
    "# complex tasks such as data analysis, web development, andmachine learning."
   ]
  },
  {
   "cell_type": "code",
   "execution_count": 5,
   "id": "d3b05ef4-59c5-48d9-860d-e9a16cd531c6",
   "metadata": {},
   "outputs": [],
   "source": [
    "import numpy as np\n",
    "arr=np.array([[1, 2, 3, 4],\n",
    "              [5, 6, 7, 8],\n",
    "              [9, 10, 11, 12]])"
   ]
  },
  {
   "cell_type": "code",
   "execution_count": 8,
   "id": "1ab67b23-0e7c-4ea0-809d-89fb19d41e66",
   "metadata": {},
   "outputs": [
    {
     "data": {
      "text/plain": [
       "2"
      ]
     },
     "execution_count": 8,
     "metadata": {},
     "output_type": "execute_result"
    }
   ],
   "source": [
    "arr.ndim"
   ]
  },
  {
   "cell_type": "code",
   "execution_count": 9,
   "id": "71f56948-875e-4b94-b782-b476f6bb2195",
   "metadata": {},
   "outputs": [
    {
     "data": {
      "text/plain": [
       "(3, 4)"
      ]
     },
     "execution_count": 9,
     "metadata": {},
     "output_type": "execute_result"
    }
   ],
   "source": [
    "arr.shape"
   ]
  },
  {
   "cell_type": "code",
   "execution_count": 10,
   "id": "96c01911-248e-4561-984b-84cd81aa3074",
   "metadata": {},
   "outputs": [
    {
     "data": {
      "text/plain": [
       "12"
      ]
     },
     "execution_count": 10,
     "metadata": {},
     "output_type": "execute_result"
    }
   ],
   "source": [
    "arr.size"
   ]
  },
  {
   "cell_type": "code",
   "execution_count": 11,
   "id": "b374996e-56d1-477f-80b7-c18d9d98599b",
   "metadata": {},
   "outputs": [],
   "source": [
    "arr1=np.array([[1, 2, 3, 4],\n",
    "               [5, 6, 7, 8],\n",
    "               [9, 10, 11, 12]])"
   ]
  },
  {
   "cell_type": "code",
   "execution_count": 15,
   "id": "54ce0ea1-e68c-407a-97fd-f903f0bd8462",
   "metadata": {},
   "outputs": [
    {
     "data": {
      "text/plain": [
       "array([1, 2, 3, 4])"
      ]
     },
     "execution_count": 15,
     "metadata": {},
     "output_type": "execute_result"
    }
   ],
   "source": [
    "arr1[0]"
   ]
  },
  {
   "cell_type": "code",
   "execution_count": 13,
   "id": "ef0feea0-412d-4138-8bfc-f237f018f1ac",
   "metadata": {},
   "outputs": [],
   "source": [
    "arr2=np.array([[1, 2, 3, 4],\n",
    "               [5, 6, 7, 8],\n",
    "               [9, 10, 11, 12]])"
   ]
  },
  {
   "cell_type": "code",
   "execution_count": 18,
   "id": "b1c63958-9982-4c6f-afd8-a4b026a86c23",
   "metadata": {},
   "outputs": [
    {
     "data": {
      "text/plain": [
       "12"
      ]
     },
     "execution_count": 18,
     "metadata": {},
     "output_type": "execute_result"
    }
   ],
   "source": [
    "arr2[2,3]"
   ]
  },
  {
   "cell_type": "code",
   "execution_count": 20,
   "id": "ba3353a6-cb95-436a-b069-09deea149f56",
   "metadata": {},
   "outputs": [
    {
     "data": {
      "text/plain": [
       "array([[ 2,  4],\n",
       "       [ 6,  8],\n",
       "       [10, 12]])"
      ]
     },
     "execution_count": 20,
     "metadata": {},
     "output_type": "execute_result"
    }
   ],
   "source": [
    "arr2[:, 1::2]"
   ]
  },
  {
   "cell_type": "code",
   "execution_count": 38,
   "id": "2cbf8022-3763-494e-ab4a-3d82c373d404",
   "metadata": {},
   "outputs": [],
   "source": [
    "import random\n",
    "arr4=np.random.rand(3,3)"
   ]
  },
  {
   "cell_type": "code",
   "execution_count": 39,
   "id": "b0b2ad14-f6b1-4dbc-8bb4-bf5d68a883b7",
   "metadata": {},
   "outputs": [
    {
     "data": {
      "text/plain": [
       "array([[0.49516402, 0.74599953, 0.46968886],\n",
       "       [0.11089936, 0.99654179, 0.22798546],\n",
       "       [0.90996681, 0.33558245, 0.41387787]])"
      ]
     },
     "execution_count": 39,
     "metadata": {},
     "output_type": "execute_result"
    }
   ],
   "source": [
    "arr4"
   ]
  },
  {
   "cell_type": "code",
   "execution_count": 43,
   "id": "a63b7241-d2a2-48cb-abf7-12bd8a0bbdf7",
   "metadata": {},
   "outputs": [
    {
     "data": {
      "text/plain": [
       "array([[0.35988385, 0.72467239],\n",
       "       [0.8105647 , 0.00917655],\n",
       "       [0.38363404, 0.66306426]])"
      ]
     },
     "execution_count": 43,
     "metadata": {},
     "output_type": "execute_result"
    }
   ],
   "source": [
    "np.random.rand(3, 2)"
   ]
  },
  {
   "cell_type": "code",
   "execution_count": 41,
   "id": "b4cd8c47-a9f2-4c2b-8eee-c37b34d1517f",
   "metadata": {},
   "outputs": [
    {
     "data": {
      "text/plain": [
       "array([[-0.85170008,  0.79177349],\n",
       "       [-0.52900854,  2.12338691],\n",
       "       [ 0.08113584,  1.19644292]])"
      ]
     },
     "execution_count": 41,
     "metadata": {},
     "output_type": "execute_result"
    }
   ],
   "source": [
    "np.random.randn(3, 2)"
   ]
  },
  {
   "cell_type": "code",
   "execution_count": 44,
   "id": "8a30a15c-4d23-40d4-96bc-40e5a61972bf",
   "metadata": {},
   "outputs": [],
   "source": [
    "#  the main difference is in the distribution of the generated numbers: np.random.rand generates numbers from a uniform distribution, while np.random.randn generates numbers from a standard normal distribution.\n",
    "\n",
    "\n",
    "\n",
    "\n"
   ]
  },
  {
   "cell_type": "code",
   "execution_count": 47,
   "id": "a1f77156-e28c-4dd2-8938-68f730d1688a",
   "metadata": {},
   "outputs": [
    {
     "data": {
      "text/plain": [
       "array([[ 1,  2,  3,  4],\n",
       "       [ 5,  6,  7,  8],\n",
       "       [ 9, 10, 11, 12]])"
      ]
     },
     "execution_count": 47,
     "metadata": {},
     "output_type": "execute_result"
    }
   ],
   "source": [
    "arr2"
   ]
  },
  {
   "cell_type": "code",
   "execution_count": 48,
   "id": "d1f86749-1057-40fd-9954-dd2c061cfedf",
   "metadata": {},
   "outputs": [
    {
     "data": {
      "text/plain": [
       "array([[ 1,  5,  9],\n",
       "       [ 2,  6, 10],\n",
       "       [ 3,  7, 11],\n",
       "       [ 4,  8, 12]])"
      ]
     },
     "execution_count": 48,
     "metadata": {},
     "output_type": "execute_result"
    }
   ],
   "source": [
    "arr2.T"
   ]
  },
  {
   "cell_type": "code",
   "execution_count": 55,
   "id": "478b9d79-9205-4720-bea9-802386cf2bbf",
   "metadata": {},
   "outputs": [],
   "source": [
    "matrixA=arr1"
   ]
  },
  {
   "cell_type": "code",
   "execution_count": 56,
   "id": "2627fddd-e596-49bf-bfb3-f5ed41175923",
   "metadata": {},
   "outputs": [],
   "source": [
    "matrixB=arr2"
   ]
  },
  {
   "cell_type": "code",
   "execution_count": 58,
   "id": "b95e73d3-89cd-403f-8a78-baf78e4569af",
   "metadata": {},
   "outputs": [
    {
     "data": {
      "text/plain": [
       "array([[  1,   4,   9,  16],\n",
       "       [ 25,  36,  49,  64],\n",
       "       [ 81, 100, 121, 144]])"
      ]
     },
     "execution_count": 58,
     "metadata": {},
     "output_type": "execute_result"
    }
   ],
   "source": [
    "matrixA*matrixB"
   ]
  },
  {
   "cell_type": "code",
   "execution_count": 60,
   "id": "e33d68dc-50b7-4f3a-8d37-73b4032253a7",
   "metadata": {},
   "outputs": [
    {
     "data": {
      "text/plain": [
       "array([[ 2,  4,  6,  8],\n",
       "       [10, 12, 14, 16],\n",
       "       [18, 20, 22, 24]])"
      ]
     },
     "execution_count": 60,
     "metadata": {},
     "output_type": "execute_result"
    }
   ],
   "source": [
    "matrixA+matrixB"
   ]
  },
  {
   "cell_type": "code",
   "execution_count": 61,
   "id": "4904aa21-7fe1-4dee-bc34-4ad3dde51d8a",
   "metadata": {},
   "outputs": [
    {
     "data": {
      "text/plain": [
       "array([[0, 0, 0, 0],\n",
       "       [0, 0, 0, 0],\n",
       "       [0, 0, 0, 0]])"
      ]
     },
     "execution_count": 61,
     "metadata": {},
     "output_type": "execute_result"
    }
   ],
   "source": [
    "matrixB-matrixA"
   ]
  },
  {
   "cell_type": "code",
   "execution_count": 62,
   "id": "800c1f6b-d053-4254-8e69-4dd2a4c70897",
   "metadata": {},
   "outputs": [
    {
     "data": {
      "text/plain": [
       "array([[1., 1., 1., 1.],\n",
       "       [1., 1., 1., 1.],\n",
       "       [1., 1., 1., 1.]])"
      ]
     },
     "execution_count": 62,
     "metadata": {},
     "output_type": "execute_result"
    }
   ],
   "source": [
    "matrixB/matrixA"
   ]
  },
  {
   "cell_type": "code",
   "execution_count": 63,
   "id": "29510828-76cd-4e8d-a576-04b169bb2c4d",
   "metadata": {},
   "outputs": [
    {
     "ename": "ValueError",
     "evalue": "matmul: Input operand 1 has a mismatch in its core dimension 0, with gufunc signature (n?,k),(k,m?)->(n?,m?) (size 3 is different from 4)",
     "output_type": "error",
     "traceback": [
      "\u001b[0;31m---------------------------------------------------------------------------\u001b[0m",
      "\u001b[0;31mValueError\u001b[0m                                Traceback (most recent call last)",
      "Cell \u001b[0;32mIn[63], line 1\u001b[0m\n\u001b[0;32m----> 1\u001b[0m \u001b[43mmatrixA\u001b[49m\u001b[38;5;129;43m@matrixB\u001b[39;49m\n",
      "\u001b[0;31mValueError\u001b[0m: matmul: Input operand 1 has a mismatch in its core dimension 0, with gufunc signature (n?,k),(k,m?)->(n?,m?) (size 3 is different from 4)"
     ]
    }
   ],
   "source": [
    "matrixA@matrixB #matrix multiplication would not be possible "
   ]
  },
  {
   "cell_type": "code",
   "execution_count": 64,
   "id": "3aa53c91-27df-48dd-a58c-4fac677a7758",
   "metadata": {},
   "outputs": [
    {
     "data": {
      "text/plain": [
       "array([[ 1,  2,  3,  4],\n",
       "       [ 5,  6,  7,  8],\n",
       "       [ 9, 10, 11, 12]])"
      ]
     },
     "execution_count": 64,
     "metadata": {},
     "output_type": "execute_result"
    }
   ],
   "source": [
    "arr1"
   ]
  },
  {
   "cell_type": "code",
   "execution_count": 68,
   "id": "5277ec3c-71c3-4f3f-8525-0616dad24ba7",
   "metadata": {},
   "outputs": [
    {
     "data": {
      "text/plain": [
       "array([[ 1,  2,  3,  4,  5,  6],\n",
       "       [ 7,  8,  9, 10, 11, 12]])"
      ]
     },
     "execution_count": 68,
     "metadata": {},
     "output_type": "execute_result"
    }
   ],
   "source": [
    "arr1.reshape(2,6) #reshape function change the row and column or shape of the array."
   ]
  },
  {
   "cell_type": "code",
   "execution_count": 69,
   "id": "0bc0ee0f-dd47-4acb-a35f-6967d4f8a518",
   "metadata": {},
   "outputs": [
    {
     "data": {
      "text/plain": [
       "array([[ 1,  2,  3,  4],\n",
       "       [ 5,  6,  7,  8],\n",
       "       [ 9, 10, 11, 12]])"
      ]
     },
     "execution_count": 69,
     "metadata": {},
     "output_type": "execute_result"
    }
   ],
   "source": [
    "arr1"
   ]
  },
  {
   "cell_type": "markdown",
   "id": "fc6f1f36-fc35-454e-9329-c728e7921e16",
   "metadata": {},
   "source": [
    "arr1.expand_dims()"
   ]
  },
  {
   "cell_type": "code",
   "execution_count": 71,
   "id": "3128cf31-0e99-4c4d-bfe6-ee07e66056fc",
   "metadata": {},
   "outputs": [],
   "source": [
    "arr3=np.expand_dims(arr1,axis=0)"
   ]
  },
  {
   "cell_type": "code",
   "execution_count": 72,
   "id": "b96a0adc-f8b8-49ef-816f-3fea6d8c288a",
   "metadata": {},
   "outputs": [
    {
     "data": {
      "text/plain": [
       "array([[[ 1,  2,  3,  4],\n",
       "        [ 5,  6,  7,  8],\n",
       "        [ 9, 10, 11, 12]]])"
      ]
     },
     "execution_count": 72,
     "metadata": {},
     "output_type": "execute_result"
    }
   ],
   "source": [
    "arr3"
   ]
  },
  {
   "cell_type": "code",
   "execution_count": 73,
   "id": "0474054a-c108-4617-9172-a28613427ae2",
   "metadata": {},
   "outputs": [],
   "source": [
    "# Broadcasting in NumPy is a \n",
    "# mechanism that allows \n",
    "# arrays of different shapes to be combined in arithmetic operations. It helps to perform operations on arrays that would otherwise be incompatible in terms of shape, by implicitly expanding the smaller arrays \n",
    "# to match the shape of the larger arrays."
   ]
  },
  {
   "cell_type": "code",
   "execution_count": 74,
   "id": "ab88cdfd-080d-4daa-9dcb-14b35d5a3a9d",
   "metadata": {},
   "outputs": [],
   "source": [
    "#The np.linalg.inv function in NumPy is used to compute the inverse of a square matrix."
   ]
  },
  {
   "cell_type": "code",
   "execution_count": 76,
   "id": "29cdecf0-8a68-437c-ae97-1f5af0cd7379",
   "metadata": {},
   "outputs": [],
   "source": [
    "arr5=[[1,2],[3,4]]\n",
    "arr6=np.linalg.inv(arr5)"
   ]
  },
  {
   "cell_type": "code",
   "execution_count": 77,
   "id": "e42938f2-19d4-43e6-bd0b-9cd94a91aff2",
   "metadata": {},
   "outputs": [
    {
     "data": {
      "text/plain": [
       "array([[-2. ,  1. ],\n",
       "       [ 1.5, -0.5]])"
      ]
     },
     "execution_count": 77,
     "metadata": {},
     "output_type": "execute_result"
    }
   ],
   "source": [
    "arr6"
   ]
  },
  {
   "cell_type": "code",
   "execution_count": null,
   "id": "507abb88-fb4f-4678-8b8f-ed8db20d443b",
   "metadata": {},
   "outputs": [],
   "source": [
    "#We can use the np.ndarray.byteswap method \n",
    "# in NumPy to swap the byte order of an array. \n",
    "# This method swaps the byte order of the array elements in place."
   ]
  }
 ],
 "metadata": {
  "kernelspec": {
   "display_name": "Python 3 (ipykernel)",
   "language": "python",
   "name": "python3"
  },
  "language_info": {
   "codemirror_mode": {
    "name": "ipython",
    "version": 3
   },
   "file_extension": ".py",
   "mimetype": "text/x-python",
   "name": "python",
   "nbconvert_exporter": "python",
   "pygments_lexer": "ipython3",
   "version": "3.10.8"
  }
 },
 "nbformat": 4,
 "nbformat_minor": 5
}
